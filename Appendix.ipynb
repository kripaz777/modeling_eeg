{
 "cells": [
  {
   "cell_type": "markdown",
   "id": "8a39cc1f",
   "metadata": {},
   "source": [
    "\n",
    "## Modeling EEG signals using polynomial regression\n",
    "Aayush Adhikari\n",
    "220426@softwarica.edu.np"
   ]
  },
  {
   "cell_type": "code",
   "execution_count": 1,
   "id": "9a672687",
   "metadata": {},
   "outputs": [
    {
     "name": "stderr",
     "output_type": "stream",
     "text": [
      "Registered S3 method overwritten by 'GGally':\n",
      "  method from   \n",
      "  +.gg   ggplot2\n",
      "\n",
      "-- \u001b[1mAttaching packages\u001b[22m ------------------------------------------------------------------------------- tidyverse 1.3.2 --\n",
      "\u001b[32mv\u001b[39m \u001b[34mtibble \u001b[39m 3.1.8     \u001b[32mv\u001b[39m \u001b[34mdplyr  \u001b[39m 1.1.0\n",
      "\u001b[32mv\u001b[39m \u001b[34mtidyr  \u001b[39m 1.3.0     \u001b[32mv\u001b[39m \u001b[34mstringr\u001b[39m 1.5.0\n",
      "\u001b[32mv\u001b[39m \u001b[34mreadr  \u001b[39m 2.1.3     \u001b[32mv\u001b[39m \u001b[34mforcats\u001b[39m 1.0.0\n",
      "\u001b[32mv\u001b[39m \u001b[34mpurrr  \u001b[39m 1.0.1     \n",
      "-- \u001b[1mConflicts\u001b[22m ---------------------------------------------------------------------------------- tidyverse_conflicts() --\n",
      "\u001b[31mx\u001b[39m \u001b[34mdplyr\u001b[39m::\u001b[32mfilter()\u001b[39m masks \u001b[34mstats\u001b[39m::filter()\n",
      "\u001b[31mx\u001b[39m \u001b[34mdplyr\u001b[39m::\u001b[32mlag()\u001b[39m    masks \u001b[34mstats\u001b[39m::lag()\n",
      "-- \u001b[1mAttaching packages\u001b[22m ------------------------------------------------------------------------------ tidymodels 1.0.0 --\n",
      "\n",
      "\u001b[32mv\u001b[39m \u001b[34mbroom       \u001b[39m 1.0.3     \u001b[32mv\u001b[39m \u001b[34mrsample     \u001b[39m 1.1.1\n",
      "\u001b[32mv\u001b[39m \u001b[34mdials       \u001b[39m 1.1.0     \u001b[32mv\u001b[39m \u001b[34mtune        \u001b[39m 1.0.1\n",
      "\u001b[32mv\u001b[39m \u001b[34minfer       \u001b[39m 1.0.4     \u001b[32mv\u001b[39m \u001b[34mworkflows   \u001b[39m 1.1.2\n",
      "\u001b[32mv\u001b[39m \u001b[34mmodeldata   \u001b[39m 1.1.0     \u001b[32mv\u001b[39m \u001b[34mworkflowsets\u001b[39m 1.0.0\n",
      "\u001b[32mv\u001b[39m \u001b[34mparsnip     \u001b[39m 1.0.3     \u001b[32mv\u001b[39m \u001b[34myardstick   \u001b[39m 1.1.0\n",
      "\u001b[32mv\u001b[39m \u001b[34mrecipes     \u001b[39m 1.0.4     \n",
      "\n",
      "-- \u001b[1mConflicts\u001b[22m --------------------------------------------------------------------------------- tidymodels_conflicts() --\n",
      "\u001b[31mx\u001b[39m \u001b[34mscales\u001b[39m::\u001b[32mdiscard()\u001b[39m masks \u001b[34mpurrr\u001b[39m::discard()\n",
      "\u001b[31mx\u001b[39m \u001b[34mdplyr\u001b[39m::\u001b[32mfilter()\u001b[39m   masks \u001b[34mstats\u001b[39m::filter()\n",
      "\u001b[31mx\u001b[39m \u001b[34mrecipes\u001b[39m::\u001b[32mfixed()\u001b[39m  masks \u001b[34mstringr\u001b[39m::fixed()\n",
      "\u001b[31mx\u001b[39m \u001b[34mdplyr\u001b[39m::\u001b[32mlag()\u001b[39m      masks \u001b[34mstats\u001b[39m::lag()\n",
      "\u001b[31mx\u001b[39m \u001b[34myardstick\u001b[39m::\u001b[32mspec()\u001b[39m masks \u001b[34mreadr\u001b[39m::spec()\n",
      "\u001b[31mx\u001b[39m \u001b[34mrecipes\u001b[39m::\u001b[32mstep()\u001b[39m   masks \u001b[34mstats\u001b[39m::step()\n",
      "\u001b[34m*\u001b[39m Use suppressPackageStartupMessages() to eliminate package startup messages\n",
      "\n"
     ]
    }
   ],
   "source": [
    "library(ggplot2)\n",
    "library(GGally)\n",
    "library(tidyverse)\n",
    "library(tidymodels)\n",
    "library(moments)\n",
    "library(dplyr)\n",
    "library(ggExtra)\n",
    "library(readr)\n",
    "library(ggpubr)"
   ]
  },
  {
   "cell_type": "markdown",
   "id": "dadb470d",
   "metadata": {},
   "source": [
    "### Importing required library\n"
   ]
  },
  {
   "cell_type": "code",
   "execution_count": 2,
   "id": "b2061d56",
   "metadata": {},
   "outputs": [],
   "source": [
    "library(ggplot2) # implementation of the grammar of graphics - complex visualizations\n",
    "library(GGally)  # create a matrix of scatter plots, with histograms or density plots\n",
    "library(tidyverse) # data manipulation, exploration, and visualization\n",
    "library(tidymodels)  # Split the data into training and testing\n",
    "library(moments) # calculating and plotting descriptive statistics\n",
    "library(dplyr) # data manipulation toolkit for working with structured data\n",
    "library(ggExtra) # additional functionality to ggplot2\n",
    "library(readr) # fast and friendly file reading\n",
    "library(ggpubr) # customizing ggplot2 based publication ready plots\n",
    "\n",
    "#setting the theme to light \n",
    "theme_set(theme_light())"
   ]
  },
  {
   "cell_type": "markdown",
   "id": "0a6f71f1",
   "metadata": {},
   "source": [
    "### Importing data set"
   ]
  },
  {
   "cell_type": "code",
   "execution_count": 3,
   "id": "4957d9a4",
   "metadata": {},
   "outputs": [],
   "source": [
    "# Importing X data\n",
    "x=as.matrix(read.csv(file=\"X_1673241366257.csv\",header = F))"
   ]
  },
  {
   "cell_type": "code",
   "execution_count": 5,
   "id": "98ef34bf",
   "metadata": {},
   "outputs": [],
   "source": [
    "# Importing Y data\n",
    "y=as.matrix(read.csv(file=\"y_1673241374123.csv\",header = F))"
   ]
  },
  {
   "cell_type": "code",
   "execution_count": 7,
   "id": "0d6d57a3",
   "metadata": {},
   "outputs": [
    {
     "data": {
      "text/html": [
       "<table class=\"dataframe\">\n",
       "<caption>A matrix: 6 × 1 of type dbl</caption>\n",
       "<thead>\n",
       "\t<tr><th scope=col>V1</th></tr>\n",
       "</thead>\n",
       "<tbody>\n",
       "\t<tr><td>0.000</td></tr>\n",
       "\t<tr><td>0.002</td></tr>\n",
       "\t<tr><td>0.004</td></tr>\n",
       "\t<tr><td>0.006</td></tr>\n",
       "\t<tr><td>0.008</td></tr>\n",
       "\t<tr><td>0.010</td></tr>\n",
       "</tbody>\n",
       "</table>\n"
      ],
      "text/latex": [
       "A matrix: 6 × 1 of type dbl\n",
       "\\begin{tabular}{l}\n",
       " V1\\\\\n",
       "\\hline\n",
       "\t 0.000\\\\\n",
       "\t 0.002\\\\\n",
       "\t 0.004\\\\\n",
       "\t 0.006\\\\\n",
       "\t 0.008\\\\\n",
       "\t 0.010\\\\\n",
       "\\end{tabular}\n"
      ],
      "text/markdown": [
       "\n",
       "A matrix: 6 × 1 of type dbl\n",
       "\n",
       "| V1 |\n",
       "|---|\n",
       "| 0.000 |\n",
       "| 0.002 |\n",
       "| 0.004 |\n",
       "| 0.006 |\n",
       "| 0.008 |\n",
       "| 0.010 |\n",
       "\n"
      ],
      "text/plain": [
       "     V1   \n",
       "[1,] 0.000\n",
       "[2,] 0.002\n",
       "[3,] 0.004\n",
       "[4,] 0.006\n",
       "[5,] 0.008\n",
       "[6,] 0.010"
      ]
     },
     "metadata": {},
     "output_type": "display_data"
    }
   ],
   "source": [
    "time = read.csv(\"time_1673241270748.csv\", header = F, skip = 1)\n",
    "time = as.matrix(rbind(0, time))\n"
   ]
  },
  {
   "cell_type": "code",
   "execution_count": 8,
   "id": "52fa2508",
   "metadata": {},
   "outputs": [
    {
     "data": {
      "text/html": [
       "<table class=\"dataframe\">\n",
       "<caption>A matrix: 6 × 6 of type dbl</caption>\n",
       "<thead>\n",
       "\t<tr><th scope=col>time</th><th scope=col>x1</th><th scope=col>x2</th><th scope=col>x3</th><th scope=col>x4</th><th scope=col>y</th></tr>\n",
       "</thead>\n",
       "<tbody>\n",
       "\t<tr><td>0.000</td><td>-3.073820</td><td>-1.855760</td><td>-2.775880</td><td>-0.288894</td><td>-0.09352727</td></tr>\n",
       "\t<tr><td>0.002</td><td> 0.349116</td><td> 1.919060</td><td> 1.004950</td><td> 0.577845</td><td> 0.32122440</td></tr>\n",
       "\t<tr><td>0.004</td><td>-1.009700</td><td> 0.272461</td><td>-0.912297</td><td>-2.697380</td><td> 0.13822394</td></tr>\n",
       "\t<tr><td>0.006</td><td>-0.807608</td><td>-1.581480</td><td> 0.194378</td><td>-1.622270</td><td> 0.35918981</td></tr>\n",
       "\t<tr><td>0.008</td><td> 2.079250</td><td> 0.742812</td><td> 1.928090</td><td> 1.558220</td><td> 0.75155170</td></tr>\n",
       "\t<tr><td>0.010</td><td> 3.249200</td><td> 1.944610</td><td> 1.799000</td><td> 2.381060</td><td> 1.41717093</td></tr>\n",
       "</tbody>\n",
       "</table>\n"
      ],
      "text/latex": [
       "A matrix: 6 × 6 of type dbl\n",
       "\\begin{tabular}{llllll}\n",
       " time & x1 & x2 & x3 & x4 & y\\\\\n",
       "\\hline\n",
       "\t 0.000 & -3.073820 & -1.855760 & -2.775880 & -0.288894 & -0.09352727\\\\\n",
       "\t 0.002 &  0.349116 &  1.919060 &  1.004950 &  0.577845 &  0.32122440\\\\\n",
       "\t 0.004 & -1.009700 &  0.272461 & -0.912297 & -2.697380 &  0.13822394\\\\\n",
       "\t 0.006 & -0.807608 & -1.581480 &  0.194378 & -1.622270 &  0.35918981\\\\\n",
       "\t 0.008 &  2.079250 &  0.742812 &  1.928090 &  1.558220 &  0.75155170\\\\\n",
       "\t 0.010 &  3.249200 &  1.944610 &  1.799000 &  2.381060 &  1.41717093\\\\\n",
       "\\end{tabular}\n"
      ],
      "text/markdown": [
       "\n",
       "A matrix: 6 × 6 of type dbl\n",
       "\n",
       "| time | x1 | x2 | x3 | x4 | y |\n",
       "|---|---|---|---|---|---|\n",
       "| 0.000 | -3.073820 | -1.855760 | -2.775880 | -0.288894 | -0.09352727 |\n",
       "| 0.002 |  0.349116 |  1.919060 |  1.004950 |  0.577845 |  0.32122440 |\n",
       "| 0.004 | -1.009700 |  0.272461 | -0.912297 | -2.697380 |  0.13822394 |\n",
       "| 0.006 | -0.807608 | -1.581480 |  0.194378 | -1.622270 |  0.35918981 |\n",
       "| 0.008 |  2.079250 |  0.742812 |  1.928090 |  1.558220 |  0.75155170 |\n",
       "| 0.010 |  3.249200 |  1.944610 |  1.799000 |  2.381060 |  1.41717093 |\n",
       "\n"
      ],
      "text/plain": [
       "     time  x1        x2        x3        x4        y          \n",
       "[1,] 0.000 -3.073820 -1.855760 -2.775880 -0.288894 -0.09352727\n",
       "[2,] 0.002  0.349116  1.919060  1.004950  0.577845  0.32122440\n",
       "[3,] 0.004 -1.009700  0.272461 -0.912297 -2.697380  0.13822394\n",
       "[4,] 0.006 -0.807608 -1.581480  0.194378 -1.622270  0.35918981\n",
       "[5,] 0.008  2.079250  0.742812  1.928090  1.558220  0.75155170\n",
       "[6,] 0.010  3.249200  1.944610  1.799000  2.381060  1.41717093"
      ]
     },
     "metadata": {},
     "output_type": "display_data"
    }
   ],
   "source": [
    "colnames(x) <- paste0(rep(\"x\", ncol(x)), 1:ncol(x)) \n",
    "colnames(y) <- \"y\"\n",
    "colnames(time) <- \"time\"\n",
    "df = cbind(time, x, y)"
   ]
  },
  {
   "cell_type": "code",
   "execution_count": 9,
   "id": "b6318d73",
   "metadata": {},
   "outputs": [],
   "source": [
    "colnames(x)<-c(\"x1\",\"x2\",\"x3\",\"x4\")\n",
    "xmat <- as.matrix(x)"
   ]
  },
  {
   "cell_type": "code",
   "execution_count": 10,
   "id": "2a364dbc",
   "metadata": {},
   "outputs": [],
   "source": [
    "#Similar process as above for output data Y.\n",
    "\n",
    "ymat <- as.matrix(y)\n"
   ]
  },
  {
   "cell_type": "code",
   "execution_count": 11,
   "id": "b045c80b",
   "metadata": {},
   "outputs": [],
   "source": [
    "#Similar process as above for output data Y.\n",
    "\n",
    "time_mat <- as.matrix(time)\n"
   ]
  },
  {
   "cell_type": "markdown",
   "id": "d2da5d40",
   "metadata": {},
   "source": [
    "## Task 1: Preliminary data analysis\n"
   ]
  },
  {
   "cell_type": "markdown",
   "id": "a4670e40",
   "metadata": {},
   "source": [
    "### Task 1.1:  Plots of Input and Output Plot od EEG  Time Series Signals\n"
   ]
  },
  {
   "cell_type": "code",
   "execution_count": 12,
   "id": "071ad86f",
   "metadata": {},
   "outputs": [],
   "source": [
    "time_mat <- as.matrix(time)\n"
   ]
  },
  {
   "cell_type": "code",
   "execution_count": 13,
   "id": "7eef9538",
   "metadata": {},
   "outputs": [
    {
     "name": "stdout",
     "output_type": "stream",
     "text": [
      "[1] \"No of missing value in the dataset is 0\"\n"
     ]
    }
   ],
   "source": [
    "# Using is.na function to see \n",
    "missing_values <- is.na(df)\n",
    "missvalues <- sum(missing_values)\n",
    "\n",
    "print(sprintf(\"No of missing value in the dataset is %d\", missvalues))"
   ]
  },
  {
   "cell_type": "code",
   "execution_count": 14,
   "id": "e052563e",
   "metadata": {},
   "outputs": [
    {
     "data": {
      "image/png": "[encoded data removed]",
      "text/plain": [
       "plot without title"
      ]
     },
     "metadata": {
      "image/png": {
       "height": 420,
       "width": 420
      }
     },
     "output_type": "display_data"
    }
   ],
   "source": [
    "xmat.ts<-ts(xmat,start = c(min(time_mat),max(time_mat)),frequency =1)\n",
    "plot(xmat.ts,main = \"Time series plot of Input Signals\", xlab = \"Time\", ylab = \"Input signal\")"
   ]
  },
  {
   "cell_type": "code",
   "execution_count": 15,
   "id": "4354c3f5",
   "metadata": {},
   "outputs": [
    {
     "data": {
      "image/png": "[encoded data removed]",
      "text/plain": [
       "Plot with title \"Time series plot of output Signals\""
      ]
     },
     "metadata": {
      "image/png": {
       "height": 420,
       "width": 420
      }
     },
     "output_type": "display_data"
    }
   ],
   "source": [
    "ymat.ts<-ts(ymat,start = c(min(time),max(time)),frequency =1)\n",
    "plot(ymat.ts,main = \"Time series plot of output Signals\", xlab = \"Time\", ylab = \"Output signals\")"
   ]
  },
  {
   "cell_type": "markdown",
   "id": "729f2386",
   "metadata": {},
   "source": [
    "### Task 1.2: Distributions for each EEG signals\n"
   ]
  },
  {
   "cell_type": "code",
   "execution_count": 16,
   "id": "5302910c",
   "metadata": {},
   "outputs": [
    {
     "data": {
      "image/png": "[encoded data removed]",
      "text/plain": [
       "Plot with title \"Density plot of whole input signal\""
      ]
     },
     "metadata": {
      "image/png": {
       "height": 420,
       "width": 420
      }
     },
     "output_type": "display_data"
    },
    {
     "data": {
      "image/png": "[encoded data removed]",
      "text/plain": [
       "Plot with title \"DEn\""
      ]
     },
     "metadata": {
      "image/png": {
       "height": 420,
       "width": 420
      }
     },
     "output_type": "display_data"
    }
   ],
   "source": [
    "dis=density(x)\n",
    "plot(dis,main = \"Density plot of whole input signal\")\n",
    "# Creating a Histrogram of X signal\n",
    "hist(x,freq = FALSE,main = \"DEn\")\n",
    "#Adding density in the histogram\n",
    "lines(dis,lwd=2,col=\"red\")\n",
    "rug(jitter(x))"
   ]
  },
  {
   "cell_type": "code",
   "execution_count": null,
   "id": "5752491a",
   "metadata": {},
   "outputs": [],
   "source": []
  },
  {
   "cell_type": "code",
   "execution_count": 17,
   "id": "a0eca7b3",
   "metadata": {},
   "outputs": [
    {
     "data": {
      "image/png": "[encoded data removed]",
      "text/plain": [
       "Plot with title \"Histogram and density plot of X1\""
      ]
     },
     "metadata": {
      "image/png": {
       "height": 420,
       "width": 420
      }
     },
     "output_type": "display_data"
    }
   ],
   "source": [
    "#Density plot of X1 signal\n",
    "dis_X1=density(x[,\"x1\"])\n",
    "hist(x[,\"x1\"],freq = FALSE,main = \"Histogram and density plot of X1\",xlab = \"X1 Signal\")\n",
    "lines(dis_X1,lwd=2,col=\"red\")\n",
    "# Add the data-poins with noise in the X-axis\n",
    "rug(jitter(x[,\"x1\"]))"
   ]
  },
  {
   "cell_type": "code",
   "execution_count": 18,
   "id": "c4517c3e",
   "metadata": {},
   "outputs": [
    {
     "data": {
      "image/png": "[encoded data removed]",
      "text/plain": [
       "Plot with title \"Histogram and density plot of X2\""
      ]
     },
     "metadata": {
      "image/png": {
       "height": 420,
       "width": 420
      }
     },
     "output_type": "display_data"
    }
   ],
   "source": [
    "#Density plot of X2 signal\n",
    "dis_X2=density(x[,\"x2\"])\n",
    "hist(x[,\"x2\"],freq = FALSE,main = \"Histogram and density plot of X2\",xlab = \"X2 Signal\")\n",
    "lines(dis_X2,lwd=2,col=\"red\")\n",
    "rug(jitter(x[,\"x2\"]))"
   ]
  },
  {
   "cell_type": "code",
   "execution_count": 19,
   "id": "257cc740",
   "metadata": {},
   "outputs": [
    {
     "data": {
      "image/png": "[encoded data removed]",
      "text/plain": [
       "Plot with title \"Histogram and density plot of X3\""
      ]
     },
     "metadata": {
      "image/png": {
       "height": 420,
       "width": 420
      }
     },
     "output_type": "display_data"
    }
   ],
   "source": [
    "#Density plot of X3 signal\n",
    "dis_X3=density(x[,\"x3\"])\n",
    "hist(x[,\"x3\"],freq = FALSE,main = \"Histogram and density plot of X3\",xlab = \"X3 Signal\")\n",
    "lines(dis_X3,lwd=2,col=\"red\")\n",
    "rug(jitter(x[,\"x3\"]))"
   ]
  },
  {
   "cell_type": "code",
   "execution_count": 20,
   "id": "9031232a",
   "metadata": {},
   "outputs": [
    {
     "data": {
      "image/png": "[encoded data removed]",
      "text/plain": [
       "Plot with title \"Histogram and density plot of X4\""
      ]
     },
     "metadata": {
      "image/png": {
       "height": 420,
       "width": 420
      }
     },
     "output_type": "display_data"
    }
   ],
   "source": [
    "#Density plot of X4 signal\n",
    "dis_X4=density(x[,\"x4\"])\n",
    "hist(x[,\"x4\"],freq = FALSE,main = \"Histogram and Density plot of X4\",xlab = \"X4 Signal\")\n",
    "lines(dis_X1,lwd=2,col=\"red\")\n",
    "rug(jitter(x[,\"x4\"]))"
   ]
  },
  {
   "cell_type": "code",
   "execution_count": 21,
   "id": "69a21ac1",
   "metadata": {},
   "outputs": [
    {
     "data": {
      "image/png": "[encoded data removed]",
      "text/plain": [
       "Plot with title \"Density plot of Y\""
      ]
     },
     "metadata": {
      "image/png": {
       "height": 420,
       "width": 420
      }
     },
     "output_type": "display_data"
    },
    {
     "data": {
      "image/png": "[encoded data removed]",
      "text/plain": [
       "Plot with title \"Histogram and density plot of Y\""
      ]
     },
     "metadata": {
      "image/png": {
       "height": 420,
       "width": 420
      }
     },
     "output_type": "display_data"
    }
   ],
   "source": [
    "#Creating a density if Y signal\n",
    "dis_y=density(y)\n",
    "plot(dis_y,main = \"Density plot of Y\",xlab = \"Output Signal\")\n",
    "hist(y,freq = FALSE,main = \"Histogram and density plot of Y\",xlab = \"Output Signal\")\n",
    "lines(dis_y,lwd=2,col=\"red\")\n",
    "rug(jitter(y))\n"
   ]
  },
  {
   "cell_type": "markdown",
   "id": "2064f9d9",
   "metadata": {},
   "source": [
    "## Task 1.3: Correlation and scatter plots (between different input EEG signals and the output EEG) to examine their dependencies "
   ]
  },
  {
   "cell_type": "code",
   "execution_count": 22,
   "id": "8a416daf",
   "metadata": {
    "scrolled": true
   },
   "outputs": [
    {
     "data": {
      "image/png": "[encoded data removed]",
      "text/plain": [
       "Plot with title \"Correlation betweeen X1 and Y signal\""
      ]
     },
     "metadata": {
      "image/png": {
       "height": 420,
       "width": 420
      }
     },
     "output_type": "display_data"
    },
    {
     "data": {
      "image/png": "[encoded data removed]",
      "text/plain": [
       "Plot with title \"Correlation betweeen X2 and Y signal\""
      ]
     },
     "metadata": {
      "image/png": {
       "height": 420,
       "width": 420
      }
     },
     "output_type": "display_data"
    },
    {
     "data": {
      "image/png": "[encoded data removed]",
      "text/plain": [
       "Plot with title \"Correlation betweeen X3 and Y signal\""
      ]
     },
     "metadata": {
      "image/png": {
       "height": 420,
       "width": 420
      }
     },
     "output_type": "display_data"
    },
    {
     "data": {
      "image/png": "[encoded data removed]",
      "text/plain": [
       "Plot with title \"Correlation betweeen X4 and Y signal\""
      ]
     },
     "metadata": {
      "image/png": {
       "height": 420,
       "width": 420
      }
     },
     "output_type": "display_data"
    }
   ],
   "source": [
    "# Plot of X1 against Y\n",
    "plot(x[,\"x1\"],y,main = \"Plot of Correlation betweeen X1 and Y signal\", xlab = \"X1 signal\", ylab = \"Output\n",
    "signal\" )\n",
    "\n",
    "# Plot of X2 against Y\n",
    "plot(x[,\"x2\"],y,main = \"Plot of Correlation betweeen X2 and Y signal\", xlab = \"X2 signal\", ylab = \"Output\n",
    "signal\")\n",
    "# Plot of X3 against Y\n",
    "plot(x[,\"x3\"],y,main = \"Plot of Correlation betweeen X3 and Y signal\", xlab = \"X3 signal\", ylab = \"Output\n",
    "signal\")\n",
    "# Plot of X4 against Y\n",
    "plot(x[,\"x4\"],y,main = \"Plot of Correlation betweeen X4 and Y signal\", xlab = \"X4 signal\", ylab = \"Output\n",
    "signal\")\n"
   ]
  },
  {
   "cell_type": "markdown",
   "id": "ea9e1fc5",
   "metadata": {},
   "source": [
    "## Task 2: Regression – modeling the relationship between EEG signals"
   ]
  },
  {
   "cell_type": "markdown",
   "id": "356e18e7",
   "metadata": {},
   "source": [
    "### Task 2.1: Using least square, estimating model parameter\n"
   ]
  },
  {
   "cell_type": "code",
   "execution_count": 23,
   "id": "5f8621a0",
   "metadata": {},
   "outputs": [
    {
     "data": {
      "text/html": [
       "<table class=\"dataframe\">\n",
       "<caption>A matrix: 6 × 6 of type dbl</caption>\n",
       "<tbody>\n",
       "\t<tr><td>1</td><td>-0.288894</td><td> 9.4483694</td><td>-29.04258681</td><td>11.860069607</td><td> 89.27168418</td></tr>\n",
       "\t<tr><td>1</td><td> 0.577845</td><td> 0.1218820</td><td>  0.04255095</td><td>13.562951639</td><td>  0.01485522</td></tr>\n",
       "\t<tr><td>1</td><td>-2.697380</td><td> 1.0194941</td><td> -1.02938318</td><td> 0.005510835</td><td>  1.03936820</td></tr>\n",
       "\t<tr><td>1</td><td>-1.622270</td><td> 0.6522307</td><td> -0.52674672</td><td> 6.255396116</td><td>  0.42540486</td></tr>\n",
       "\t<tr><td>1</td><td> 1.558220</td><td> 4.3232806</td><td>  8.98918111</td><td> 0.304449766</td><td> 18.69075482</td></tr>\n",
       "\t<tr><td>1</td><td> 2.381060</td><td>10.5573006</td><td> 34.30278124</td><td>14.299803148</td><td>111.45659680</td></tr>\n",
       "</tbody>\n",
       "</table>\n"
      ],
      "text/latex": [
       "A matrix: 6 × 6 of type dbl\n",
       "\\begin{tabular}{llllll}\n",
       "\t 1 & -0.288894 &  9.4483694 & -29.04258681 & 11.860069607 &  89.27168418\\\\\n",
       "\t 1 &  0.577845 &  0.1218820 &   0.04255095 & 13.562951639 &   0.01485522\\\\\n",
       "\t 1 & -2.697380 &  1.0194941 &  -1.02938318 &  0.005510835 &   1.03936820\\\\\n",
       "\t 1 & -1.622270 &  0.6522307 &  -0.52674672 &  6.255396116 &   0.42540486\\\\\n",
       "\t 1 &  1.558220 &  4.3232806 &   8.98918111 &  0.304449766 &  18.69075482\\\\\n",
       "\t 1 &  2.381060 & 10.5573006 &  34.30278124 & 14.299803148 & 111.45659680\\\\\n",
       "\\end{tabular}\n"
      ],
      "text/markdown": [
       "\n",
       "A matrix: 6 × 6 of type dbl\n",
       "\n",
       "| 1 | -0.288894 |  9.4483694 | -29.04258681 | 11.860069607 |  89.27168418 |\n",
       "| 1 |  0.577845 |  0.1218820 |   0.04255095 | 13.562951639 |   0.01485522 |\n",
       "| 1 | -2.697380 |  1.0194941 |  -1.02938318 |  0.005510835 |   1.03936820 |\n",
       "| 1 | -1.622270 |  0.6522307 |  -0.52674672 |  6.255396116 |   0.42540486 |\n",
       "| 1 |  1.558220 |  4.3232806 |   8.98918111 |  0.304449766 |  18.69075482 |\n",
       "| 1 |  2.381060 | 10.5573006 |  34.30278124 | 14.299803148 | 111.45659680 |\n",
       "\n"
      ],
      "text/plain": [
       "     [,1] [,2]      [,3]       [,4]         [,5]         [,6]        \n",
       "[1,] 1    -0.288894  9.4483694 -29.04258681 11.860069607  89.27168418\n",
       "[2,] 1     0.577845  0.1218820   0.04255095 13.562951639   0.01485522\n",
       "[3,] 1    -2.697380  1.0194941  -1.02938318  0.005510835   1.03936820\n",
       "[4,] 1    -1.622270  0.6522307  -0.52674672  6.255396116   0.42540486\n",
       "[5,] 1     1.558220  4.3232806   8.98918111  0.304449766  18.69075482\n",
       "[6,] 1     2.381060 10.5573006  34.30278124 14.299803148 111.45659680"
      ]
     },
     "metadata": {},
     "output_type": "display_data"
    }
   ],
   "source": [
    "ones = matrix(1 , length(x)/4,1) \n",
    "#The resulting data frame \"x_model_1\" will have the same number of rows as the input variable \"x\" but new colum will be added,\n",
    "\n",
    "x_model_1<-cbind(ones,(x[,\"x4\"]),(x[,\"x1\"])^2,(x[,\"x1\"])^3,(x[,\"x2\"])^4,(x[,\"x1\"])^4)\n"
   ]
  },
  {
   "cell_type": "code",
   "execution_count": 24,
   "id": "d4a46696",
   "metadata": {},
   "outputs": [
    {
     "name": "stdout",
     "output_type": "stream",
     "text": [
      "                 y\n",
      "[1,]  0.4015807794\n",
      "[2,]  0.1277101097\n",
      "[3,] -0.0002902170\n",
      "[4,]  0.0096688129\n",
      "[5,] -0.0004098917\n",
      "[6,] -0.0001543367\n"
     ]
    }
   ],
   "source": [
    "# We are converting thus obtained dataframe x_model_1  into a matrix using the function as.matrix(). The transpose of the matrix is taken using the function t(). The operator %*% is used for matrix multiplication under solve() function.\n",
    "\n",
    "theta_hat_1 <- solve(t(as.matrix(x_model_1)) %*% as.matrix(x_model_1)) %*% t(as.matrix(x_model_1)) %*% as.matrix(y)\n"
   ]
  },
  {
   "cell_type": "markdown",
   "id": "d2c5d09e",
   "metadata": {},
   "source": [
    "# Task 2.1.2: Using least square estimating model parameter for model 2\n"
   ]
  },
  {
   "cell_type": "code",
   "execution_count": 25,
   "id": "1506b9bd",
   "metadata": {},
   "outputs": [
    {
     "name": "stdout",
     "output_type": "stream",
     "text": [
      "                y\n",
      "[1,]  0.483065688\n",
      "[2,]  0.143578928\n",
      "[3,]  0.010038614\n",
      "[4,] -0.001912836\n"
     ]
    }
   ],
   "source": [
    "# Binding for model 2\n",
    "x_model_2<-cbind(ones,(x[,\"x4\"]),(x[,\"x1\"])^3,(x[,\"x3\"])^4)\n",
    "\n",
    "# Calculating theta_hat_2\n",
    "theta_hat_2 <- solve(t(as.matrix(x_model_2)) %*% as.matrix(x_model_2)) %*% t(as.matrix(x_model_2)) %*% as.matrix(y)\n"
   ]
  },
  {
   "cell_type": "markdown",
   "id": "d17bc4d9",
   "metadata": {},
   "source": [
    "# Task 2.1.3: Using least square, estimating model parameter for model 3\n"
   ]
  },
  {
   "cell_type": "code",
   "execution_count": 26,
   "id": "f9bcf3c0",
   "metadata": {},
   "outputs": [
    {
     "name": "stdout",
     "output_type": "stream",
     "text": [
      "                y\n",
      "[1,]  0.340561975\n",
      "[2,]  0.021330543\n",
      "[3,] -0.002857744\n"
     ]
    }
   ],
   "source": [
    "# Binding for model 3\n",
    "x_model_3<-cbind(ones,(x[,\"x3\"])^3,(x[,\"x3\"])^4)\n",
    "\n",
    "# Calculating theta_hat\n",
    "theta_hat_3 <- solve(t(as.matrix(x_model_3)) %*% as.matrix(x_model_3)) %*% t(as.matrix(x_model_3)) %*% as.matrix(y)\n"
   ]
  },
  {
   "cell_type": "markdown",
   "id": "695a140e",
   "metadata": {},
   "source": [
    "# Task 2.1.4: Using least square, estimating model parameter for model 4\n"
   ]
  },
  {
   "cell_type": "code",
   "execution_count": 27,
   "id": "07d221c4",
   "metadata": {},
   "outputs": [
    {
     "name": "stdout",
     "output_type": "stream",
     "text": [
      "                y\n",
      "[1,]  0.509013488\n",
      "[2,]  0.053322048\n",
      "[3,]  0.012067145\n",
      "[4,] -0.001855997\n"
     ]
    }
   ],
   "source": [
    "# Binding for model 4\n",
    "x_model_4<-cbind(ones,(x[,\"x2\"]),(x[,\"x1\"])^3,(x[,\"x3\"])^4)\n",
    "\n",
    "# Calculating theta_hat\n",
    "theta_hat_4 <- solve(t(as.matrix(x_model_4)) %*% as.matrix(x_model_4)) %*% t(as.matrix(x_model_4)) %*% as.matrix(y)\n"
   ]
  },
  {
   "cell_type": "markdown",
   "id": "3dad960d",
   "metadata": {},
   "source": [
    "# Task 2.1.5: Using least square, estimating model parameter for model 5\n"
   ]
  },
  {
   "cell_type": "code",
   "execution_count": 28,
   "id": "9ecfdbd9",
   "metadata": {},
   "outputs": [
    {
     "name": "stdout",
     "output_type": "stream",
     "text": [
      "                 y\n",
      "[1,]  0.4798284629\n",
      "[2,]  0.1434460704\n",
      "[3,]  0.0003254641\n",
      "[4,]  0.0100562759\n",
      "[5,] -0.0019198749\n"
     ]
    }
   ],
   "source": [
    "# Binding for model 5\n",
    "x_model_5 <- cbind(ones,(x[,\"x4\"]),(x[,\"x1\"])^2,(x[,\"x1\"])^3,(x[,\"x3\"])^4)\n",
    "\n",
    "# Calculating theta_hat\n",
    "theta_hat_5 <- solve(t(as.matrix(x_model_5)) %*% as.matrix(x_model_5)) %*% t(as.matrix(x_model_5)) %*% as.matrix(y)\n"
   ]
  },
  {
   "cell_type": "markdown",
   "id": "e24ea707",
   "metadata": {},
   "source": [
    "# Task 2.2: Calculation of model residual errors (RSS)\n"
   ]
  },
  {
   "cell_type": "markdown",
   "id": "c6e5cd8a",
   "metadata": {},
   "source": [
    "#### Task 2.2.1: Calculation of model residual errors (RSS) for model 1\n"
   ]
  },
  {
   "cell_type": "code",
   "execution_count": 29,
   "id": "e0b9f3f3",
   "metadata": {},
   "outputs": [
    {
     "name": "stdout",
     "output_type": "stream",
     "text": [
      "[1] \"RSS value of the model 1 is 35.3966\"\n"
     ]
    }
   ],
   "source": [
    "# Calculation of Y-hat and RSS model 1\n",
    "\n",
    "# Before that we convert our model and theta hat into matrix\n",
    "x_model_1 <- as.matrix(x_model_1)\n",
    "theta_hat_1 <- as.matrix(theta_hat_1)\n",
    "\n",
    "\n",
    "Y_hat_model_1 <- x_model_1 %*% theta_hat_1\n",
    "\n",
    "\n",
    "\n",
    "# Calculation of RSS using above mentioned formula\n",
    "\n",
    "RSS_model_1 <- sum((y - Y_hat_model_1)^2)\n",
    "\n",
    "# printing RSS value for model 1\n",
    "print(sprintf(\"RSS value of the model 1 =  %0.4f\", RSS_model_1))"
   ]
  },
  {
   "cell_type": "markdown",
   "id": "61c814ce",
   "metadata": {},
   "source": [
    "### Task 2.2.2: Calculation of model residual errors (RSS) for model 2"
   ]
  },
  {
   "cell_type": "code",
   "execution_count": 30,
   "id": "c270f1df",
   "metadata": {},
   "outputs": [
    {
     "name": "stdout",
     "output_type": "stream",
     "text": [
      "[1] \"RSS value of the model 2 is 2.1398\"\n"
     ]
    }
   ],
   "source": [
    "# Calculation of Y-hat and RSS model 2\n",
    "\n",
    "# Before that we convert our model and theta hat into matrix\n",
    "x_model_2 <- as.matrix(x_model_2)\n",
    "theta_hat_2 <- as.matrix(theta_hat_2)\n",
    "\n",
    "\n",
    "Y_hat_model_2 <- x_model_2 %*% theta_hat_2\n",
    "\n",
    "\n",
    "\n",
    "# Calculation of RSS using above mentioned formula\n",
    "\n",
    "RSS_model_2 <- sum((y - Y_hat_model_2)^2)\n",
    "\n",
    "# printing RSS value for model 2\n",
    "\n",
    "print(sprintf(\"RSS value of the model 2 =  %0.4f\", RSS_model_2))"
   ]
  },
  {
   "cell_type": "markdown",
   "id": "9c2ca022",
   "metadata": {},
   "source": [
    "#### Task 2.2.3: Calculation of model residual errors (RSS) for model 3\n"
   ]
  },
  {
   "cell_type": "code",
   "execution_count": 31,
   "id": "9c90dbb2",
   "metadata": {},
   "outputs": [
    {
     "name": "stdout",
     "output_type": "stream",
     "text": [
      "[1] \"RSS value of the model 3 is 463.3124\"\n"
     ]
    }
   ],
   "source": [
    "# Calculation of Y-hat and RSS model 3\n",
    "\n",
    "# Before that we convert our model and theta hat into matrix\n",
    "x_model_3 <- as.matrix(x_model_3)\n",
    "theta_hat_3 <- as.matrix(theta_hat_3)\n",
    "\n",
    "\n",
    "Y_hat_model_3 <- x_model_3 %*% theta_hat_3\n",
    "\n",
    "\n",
    "\n",
    "# Calculation of RSS using above mentioned formula\n",
    "\n",
    "RSS_model_3 <- sum((y - Y_hat_model_3)^2)\n",
    "\n",
    "# printing RSS value for model 3\n",
    "\n",
    "print(sprintf(\"RSS value of the model 3 =  %0.4f\", RSS_model_3))"
   ]
  },
  {
   "cell_type": "markdown",
   "id": "eea51fe2",
   "metadata": {},
   "source": [
    "#### Task 2.2.4: Calculation of model residual errors (RSS) for model 4\n"
   ]
  },
  {
   "cell_type": "code",
   "execution_count": 32,
   "id": "80c816dd",
   "metadata": {},
   "outputs": [
    {
     "name": "stdout",
     "output_type": "stream",
     "text": [
      "[1] \"RSS value of the model 4 is 20.2590\"\n"
     ]
    }
   ],
   "source": [
    "# Calculation of Y-hat and RSS model 4\n",
    "\n",
    "# Before that we convert our model and theta hat into matrix\n",
    "x_model_4 <- as.matrix(x_model_4)\n",
    "theta_hat_4 <-  as.matrix(theta_hat_4)\n",
    "\n",
    "\n",
    "Y_hat_model_4 <- x_model_4 %*% theta_hat_4\n",
    "\n",
    "\n",
    "\n",
    "# Calculation of RSS using above mentioned formula\n",
    "\n",
    "RSS_model_4 <- sum((y - Y_hat_model_4)^2)\n",
    "\n",
    "# printing RSS value for model 4\n",
    "\n",
    "print(sprintf(\"RSS value of the model =  is %0.4f\", RSS_model_4))"
   ]
  },
  {
   "cell_type": "markdown",
   "id": "cef096dc",
   "metadata": {},
   "source": [
    "#### Task 2.2.5: Calculation of model residual errors (RSS) for model 5\n"
   ]
  },
  {
   "cell_type": "code",
   "execution_count": 33,
   "id": "0db1b1a0",
   "metadata": {},
   "outputs": [
    {
     "name": "stdout",
     "output_type": "stream",
     "text": [
      "[1] \"RSS value of the model 5 is 2.1355\"\n"
     ]
    }
   ],
   "source": [
    "# Calculation of Y-hat and RSS model 5\n",
    "\n",
    "# Before that we convert our model and theta hat into matrix\n",
    "x_model_5 <- as.matrix(x_model_5)\n",
    "theta_hat_5 <- as.matrix(theta_hat_5)\n",
    "\n",
    "\n",
    "Y_hat_model_5 <- x_model_5 %*% theta_hat_5\n",
    "\n",
    "\n",
    "\n",
    "# Calculation of RSS using above mentioned formula\n",
    "\n",
    "RSS_model_5 <- sum((y - Y_hat_model_5)^2)\n",
    "\n",
    "# printing RSS value for model 5\n",
    "\n",
    "print(sprintf(\"RSS value of the model 5 =  is %0.4f\", RSS_model_5))"
   ]
  },
  {
   "cell_type": "markdown",
   "id": "5feddb2a",
   "metadata": {},
   "source": [
    "### Task 2.3: Calculation of log-likelihood functions\n"
   ]
  },
  {
   "cell_type": "code",
   "execution_count": 34,
   "id": "eb77c4f7",
   "metadata": {},
   "outputs": [
    {
     "name": "stdout",
     "output_type": "stream",
     "text": [
      "[1] \"Variance of model 1 is 0.1770\"\n"
     ]
    }
   ],
   "source": [
    "# Calculation of length of the output signal y with nrow()  as our data are in matrix format and storing it in N\n",
    "\n",
    "N <- nrow(y)\n",
    "\n",
    "\n",
    "# Calculation of the variance of model 1\n",
    "\n",
    "Variance_model_1 = RSS_model_1/(N-1)\n",
    "\n",
    "# Printing variance of model 1\n",
    "\n",
    "print(sprintf(\"Calculated variance of model 1 =  %0.4f\", Variance_model_1))"
   ]
  },
  {
   "cell_type": "code",
   "execution_count": 35,
   "id": "76f532f6",
   "metadata": {},
   "outputs": [
    {
     "name": "stdout",
     "output_type": "stream",
     "text": [
      "[1] \"Log-likelihood of model 1 is -110.6707\"\n"
     ]
    }
   ],
   "source": [
    "# Calculation of the log-likelihood of model 1 using model residual error (RSS)\n",
    "\n",
    "likehood_model_1 <- -(N/2)*(log(2*pi))-(N/2)*(log(Variance_model_1))-(1/(2*Variance_model_1))*RSS_model_1\n",
    "\n",
    "# Printing log likelihood function of model 1\n",
    "print(sprintf(\"Calculated Log-likelihood of model 1 =  %0.4f\", likehood_model_1))"
   ]
  },
  {
   "cell_type": "markdown",
   "id": "9ac425bf",
   "metadata": {},
   "source": [
    "#### Task 2.3.2:Calculation of log-likelihood functions for model 2\n"
   ]
  },
  {
   "cell_type": "code",
   "execution_count": 36,
   "id": "3a4776ed",
   "metadata": {},
   "outputs": [
    {
     "name": "stdout",
     "output_type": "stream",
     "text": [
      "[1] \"Variance of model 2 is 0.0107\"\n",
      "[1] \"Log-likelihood of model 2 is 171.3245\"\n"
     ]
    }
   ],
   "source": [
    "# Calculation of the variance of model 2\n",
    "\n",
    "Variance_model_2 = RSS_model_2/(N-1)\n",
    "\n",
    "# Printing variance of model 2\n",
    "\n",
    "print(sprintf(\"Calculated variance of model 2 = %0.4f\", Variance_model_2))\n",
    "\n",
    "# Calculation of the log-likelihood of model 2 using model residual error (RSS)\n",
    "\n",
    "likehood_model_2 <- -(N/2)*(log(2*pi))-(N/2)*(log(Variance_model_2))-(1/(2*Variance_model_2))*RSS_model_2\n",
    "\n",
    "# Printing log likelihood function of model 2\n",
    "print(sprintf(\"Calculated Log-likelihood of model 2 =  %0.4f\", likehood_model_2))"
   ]
  },
  {
   "cell_type": "markdown",
   "id": "55e0ebad",
   "metadata": {},
   "source": [
    "#### Task 2.3.3: Calculation of log-likelihood functions for model 3\n"
   ]
  },
  {
   "cell_type": "code",
   "execution_count": 37,
   "id": "e2a84807",
   "metadata": {},
   "outputs": [
    {
     "name": "stdout",
     "output_type": "stream",
     "text": [
      "[1] \"Variance of model 3 is 2.3166\"\n",
      "[1] \"Log-likelihood of model 3 is -369.1351\"\n"
     ]
    }
   ],
   "source": [
    "# Calculation of the variance of model 3\n",
    "\n",
    "Variance_model_3 = RSS_model_3/(N-1)\n",
    "\n",
    "# Printing variance of model 3\n",
    "\n",
    "print(sprintf(\"Calculated variance of model 3 is %0.4f\", Variance_model_3))\n",
    "\n",
    "\n",
    "# Calculation of the log-likelihood of model 3 using model residual error (RSS)\n",
    "\n",
    "likehood_model_3 <- -(N/2)*(log(2*pi))-(N/2)*(log(Variance_model_3))-(1/(2*Variance_model_3))*RSS_model_3\n",
    "\n",
    "# Printing log likelihood function of model 3\n",
    "print(sprintf(\"Calculated Log-likelihood of model 3 =  %0.4f\", likehood_model_3))"
   ]
  },
  {
   "cell_type": "markdown",
   "id": "6d4d8b80",
   "metadata": {},
   "source": [
    "#### Task 2.3.4: Calculation of log-likelihood functions for model 4"
   ]
  },
  {
   "cell_type": "code",
   "execution_count": 38,
   "id": "0639343a",
   "metadata": {},
   "outputs": [
    {
     "name": "stdout",
     "output_type": "stream",
     "text": [
      "[1] \"Variance of model 4 is 0.1013\"\n",
      "[1] \"Log-likelihood of model 4 is -54.5899\"\n"
     ]
    }
   ],
   "source": [
    "# Calculation of the variance of model 4\n",
    "\n",
    "Variance_model_4 = RSS_model_4/(N-1)\n",
    "\n",
    "# Printing variance of model 4\n",
    "\n",
    "print(sprintf(\"Calculated variance of model 4 is %0.4f\", Variance_model_4))\n",
    "\n",
    "\n",
    "# Calculation of the log-likelihood of model 4 using model residual error (RSS)\n",
    "\n",
    "likehood_model_4 <- -(N/2)*(log(2*pi))-(N/2)*(log(Variance_model_4))-(1/(2*Variance_model_4))*RSS_model_4\n",
    "\n",
    "# Printing log likelihood function of model 4\n",
    "print(sprintf(\"Calculated Log-likelihood of model 4 = %0.4f\", likehood_model_4))"
   ]
  },
  {
   "cell_type": "markdown",
   "id": "8d541451",
   "metadata": {},
   "source": [
    "#### Task 2.3.5: Calculation of log-likelihood functions for model 5\n"
   ]
  },
  {
   "cell_type": "code",
   "execution_count": 39,
   "id": "04a07693",
   "metadata": {},
   "outputs": [
    {
     "name": "stdout",
     "output_type": "stream",
     "text": [
      "[1] \"Variance of model 5 is 0.0107\"\n",
      "[1] \"Log-likelihood of model 5 is 171.5247\"\n"
     ]
    }
   ],
   "source": [
    "# Calculation of the variance of model 5\n",
    "\n",
    "Variance_model_5 = RSS_model_5/(N-1)\n",
    "\n",
    "# Printing variance of model 5\n",
    "\n",
    "print(sprintf(\"Calculated variance of model 5 = %0.4f\", Variance_model_5))\n",
    "\n",
    "\n",
    "# Calculation of the log-likelihood of model 5 using model residual error (RSS)\n",
    "\n",
    "likehood_model_5 <- -(N/2)*(log(2*pi))-(N/2)*(log(Variance_model_5))-(1/(2*Variance_model_5))*RSS_model_5\n",
    "\n",
    "# Printing log likelihood function of model 5\n",
    "print(sprintf(\"Calculated Log-likelihood of model 5 = %0.4f\", likehood_model_5))"
   ]
  },
  {
   "cell_type": "markdown",
   "id": "793d2d00",
   "metadata": {},
   "source": [
    "#### Task 2.4: Calculation of Akaike information criterion and Bayesian Information Criteria"
   ]
  },
  {
   "cell_type": "markdown",
   "id": "4f5bace8",
   "metadata": {},
   "source": [
    "#### Task 2.4.1.1: Calculation of AIC for model 1\n"
   ]
  },
  {
   "cell_type": "code",
   "execution_count": 40,
   "id": "b6a68b45",
   "metadata": {},
   "outputs": [
    {
     "name": "stdout",
     "output_type": "stream",
     "text": [
      "[1] \"Length of parameter to be estimated in model 1 is 6\"\n",
      "[1] \"AIC of model 1 is 233.3414\"\n",
      "[1] \"Length of parameter to be estimated in model 2 is 4\"\n",
      "[1] \"AIC of model 2 is -334.6489\"\n"
     ]
    }
   ],
   "source": [
    "# Calculation of AIC for model 1. \n",
    "# Here we are finding value of K with length() function.\n",
    "\n",
    "AIC_1 <- 2* length(x_model_1[1,]) - 2 * likehood_model_1\n",
    "\n",
    "print(sprintf(\"Length of parameter to be estimated in model 1 is %d\", length(x_model_1[1,])))\n",
    "\n",
    "# AIC of model 1\n",
    "print(sprintf(\"Calculated AIC of model 1 is %0.4f\", AIC_1))\n",
    "\n",
    "# Calculation of AIC for model 2. \n",
    "\n",
    "\n",
    "AIC_2 <- 2* length(x_model_2[1,]) - 2 * likehood_model_2\n",
    "\n",
    "print(sprintf(\"Length of parameter to be estimated in model = is %d\", length(x_model_2[1,])))\n",
    "\n",
    "# AIC of model 2\n",
    "print(sprintf(\"Calculated AIC of model 2 = %0.4f\", AIC_2))"
   ]
  },
  {
   "cell_type": "markdown",
   "id": "cafd753a",
   "metadata": {},
   "source": [
    "#### Task 2.4.1.2: Calculation of AIC for model 2\n"
   ]
  },
  {
   "cell_type": "code",
   "execution_count": 41,
   "id": "4a646c5c",
   "metadata": {},
   "outputs": [
    {
     "name": "stdout",
     "output_type": "stream",
     "text": [
      "[1] \"Length of parameter to be estimated in model 2 is 4\"\n",
      "[1] \"AIC of model 2 is -334.6489\"\n"
     ]
    }
   ],
   "source": [
    "# Calculation of AIC for model 2. \n",
    "\n",
    "\n",
    "AIC_2 <- 2* length(x_model_2[1,]) - 2 * likehood_model_2\n",
    "\n",
    "print(sprintf(\"Length of parameter to be estimated in model 2 = %d\", length(x_model_2[1,])))\n",
    "\n",
    "# AIC of model 2\n",
    "print(sprintf(\"Calculated AIC of model 2 = %0.4f\", AIC_2))"
   ]
  },
  {
   "cell_type": "markdown",
   "id": "bbe2aa79",
   "metadata": {},
   "source": [
    "#### Task 2.4.1.3: Calculation of AIC for model 3\n"
   ]
  },
  {
   "cell_type": "code",
   "execution_count": 42,
   "id": "193dd3f6",
   "metadata": {},
   "outputs": [
    {
     "name": "stdout",
     "output_type": "stream",
     "text": [
      "[1] \"Length of parameter to be estimated in model 3 is 3\"\n",
      "[1] \"AIC of model 3 is 744.2702\"\n"
     ]
    }
   ],
   "source": [
    "# Calculation of AIC for model 3. \n",
    "\n",
    "\n",
    "AIC_3 <- 2* length(x_model_3[1,]) - 2 * likehood_model_3\n",
    "\n",
    "print(sprintf(\"Length of parameter to be estimated in model 3 = %d\", length(x_model_3[1,])))\n",
    "\n",
    "# AIC of model 3\n",
    "print(sprintf(\"Calculated AIC of model 3 = %0.4f\", AIC_3))"
   ]
  },
  {
   "cell_type": "markdown",
   "id": "e0f80875",
   "metadata": {},
   "source": [
    "#### Task 2.4.1.4: Calculation of AIC for model 4\n"
   ]
  },
  {
   "cell_type": "code",
   "execution_count": 43,
   "id": "e7323899",
   "metadata": {},
   "outputs": [
    {
     "name": "stdout",
     "output_type": "stream",
     "text": [
      "[1] \"Length of parameter to be estimated in model 4 is 4\"\n",
      "[1] \"AIC of model 4 is 117.1799\"\n"
     ]
    }
   ],
   "source": [
    "# Calculation of AIC for model 4. \n",
    "\n",
    "\n",
    "AIC_4 <- 2* length(x_model_4[1,]) - 2 * likehood_model_4\n",
    "\n",
    "print(sprintf(\"Length of parameter to be estimated in model 4 = %d\", length(x_model_4[1,])))\n",
    "\n",
    "# AIC of model 4\n",
    "print(sprintf(\"Calculated AIC of model 4 = %0.4f\", AIC_4))\n"
   ]
  },
  {
   "cell_type": "markdown",
   "id": "ab68e991",
   "metadata": {},
   "source": [
    "##### Task 2.4.1.5:Calculation of AIC for model 5\n"
   ]
  },
  {
   "cell_type": "code",
   "execution_count": 44,
   "id": "6d852e08",
   "metadata": {},
   "outputs": [
    {
     "name": "stdout",
     "output_type": "stream",
     "text": [
      "[1] \"Length of parameter to be estimated in model 5 is 5\"\n",
      "[1] \"AIC of model 5 is -333.0493\"\n"
     ]
    }
   ],
   "source": [
    "# Calculation of AIC for model 5. \n",
    "\n",
    "\n",
    "AIC_5 <- 2* length(x_model_5[1,]) - 2 * likehood_model_5\n",
    "\n",
    "print(sprintf(\"Length of parameter to be estimated in model 5 = %d\", length(x_model_5[1,])))\n",
    "\n",
    "# AIC of model 5\n",
    "print(sprintf(\"Calculated AIC of model 5 = %0.4f\", AIC_5))"
   ]
  },
  {
   "cell_type": "markdown",
   "id": "8108c034",
   "metadata": {},
   "source": [
    "### Task 2.4.2: Calculation of BIC for each models\n"
   ]
  },
  {
   "cell_type": "markdown",
   "id": "c384b902",
   "metadata": {},
   "source": [
    "#### Task 2.4.2.1: Calculation of BIC for model 1\n"
   ]
  },
  {
   "cell_type": "code",
   "execution_count": 45,
   "id": "aa8c9df2",
   "metadata": {},
   "outputs": [
    {
     "name": "stdout",
     "output_type": "stream",
     "text": [
      "[1] \"BIC of model 1 is 253.1613\"\n"
     ]
    }
   ],
   "source": [
    "# Calculation of BIC for model 1 \n",
    "\n",
    "BIC_1 <- length(x_model_1[1,]) * log(N) - 2 * likehood_model_1\n",
    "\n",
    "\n",
    "# BIC of model 1\n",
    "print(sprintf(\"Calculated BIC of model 1 =  %0.4f\", BIC_1))\n",
    "\n"
   ]
  },
  {
   "cell_type": "markdown",
   "id": "cf242060",
   "metadata": {},
   "source": [
    "#### Task 2.4.2.2: Calculation of BIC for model 2\n"
   ]
  },
  {
   "cell_type": "code",
   "execution_count": 46,
   "id": "ac5cd94d",
   "metadata": {},
   "outputs": [
    {
     "name": "stdout",
     "output_type": "stream",
     "text": [
      "[1] \"BIC of model 2 is -321.4357\"\n"
     ]
    }
   ],
   "source": [
    "# Calculation of BIC for model 2\n",
    "\n",
    "BIC_2 <- length(x_model_2[1,]) * log(N) - 2 * likehood_model_2\n",
    "\n",
    "\n",
    "# BIC of model 2\n",
    "print(sprintf(\"Calculated BIC of model 2 = %0.4f\", BIC_2))"
   ]
  },
  {
   "cell_type": "markdown",
   "id": "0307b6f7",
   "metadata": {},
   "source": [
    "#### Task 2.4.2.3: Calculation of BIC for model 3\n"
   ]
  },
  {
   "cell_type": "code",
   "execution_count": 47,
   "id": "d3a6cf73",
   "metadata": {},
   "outputs": [
    {
     "name": "stdout",
     "output_type": "stream",
     "text": [
      "[1] \"BIC of model 3 is 754.1801\"\n"
     ]
    }
   ],
   "source": [
    "# Calculation of BIC for model 3 \n",
    "\n",
    "BIC_3 <- length(x_model_3[1,]) * log(N) - 2 * likehood_model_3\n",
    "\n",
    "\n",
    "# BIC of model 3\n",
    "\n",
    "print(sprintf(\"Calculated BIC of model 3 = %0.4f\", BIC_3))"
   ]
  },
  {
   "cell_type": "markdown",
   "id": "1d924821",
   "metadata": {},
   "source": [
    "#### Task 2.4.2.4: Calculation of BIC for model 4\n"
   ]
  },
  {
   "cell_type": "code",
   "execution_count": 48,
   "id": "263fa659",
   "metadata": {},
   "outputs": [
    {
     "name": "stdout",
     "output_type": "stream",
     "text": [
      "[1] \"BIC of model 4 is 130.3931\"\n"
     ]
    }
   ],
   "source": [
    "# Calculation of BIC for model 4\n",
    "\n",
    "BIC_4 <- length(x_model_4[1,]) * log(N) - 2 * likehood_model_4\n",
    "\n",
    "\n",
    "# BIC of model 4\n",
    "\n",
    "print(sprintf(\"Calculated BIC of model 4 = %0.4f\", BIC_4))"
   ]
  },
  {
   "cell_type": "markdown",
   "id": "a2243702",
   "metadata": {},
   "source": [
    "#### Task 2.4.2.5: Calculation of BIC for model 5"
   ]
  },
  {
   "cell_type": "code",
   "execution_count": 49,
   "id": "54057181",
   "metadata": {},
   "outputs": [
    {
     "name": "stdout",
     "output_type": "stream",
     "text": [
      "[1] \"BIC of model 5 is -316.5328\"\n"
     ]
    }
   ],
   "source": [
    "# Calculation of BIC for model 5\n",
    "\n",
    "BIC_5 <- length(x_model_5[1,]) * log(N) - 2 * likehood_model_5\n",
    "\n",
    "\n",
    "# BIC of model 5\n",
    "\n",
    "print(sprintf(\"Calculated BIC of model 5 = %0.4f\", BIC_5))"
   ]
  },
  {
   "cell_type": "markdown",
   "id": "f38f93d3",
   "metadata": {},
   "source": [
    "## Task 2.5: Checking distribution of model prediction errors\n"
   ]
  },
  {
   "cell_type": "code",
   "execution_count": 50,
   "id": "0195931d",
   "metadata": {},
   "outputs": [],
   "source": [
    "##  Error of models 1-5  based on calculation form Task 2.2\n",
    "model_1_error <- y - Y_hat_model_1\n",
    "model_2_error <- y - Y_hat_model_2\n",
    "model_3_error <- y - Y_hat_model_3\n",
    "model_4_error <- y - Y_hat_model_4\n",
    "model_5_error <- y - Y_hat_model_5"
   ]
  },
  {
   "cell_type": "markdown",
   "id": "6bfb62fe",
   "metadata": {},
   "source": [
    "### Task 2.5.2: Visualization of  prediction error with Q-Q plot\n"
   ]
  },
  {
   "cell_type": "code",
   "execution_count": 51,
   "id": "3446fa2c",
   "metadata": {},
   "outputs": [
    {
     "data": {
      "image/png": "[encoded data removed]",
      "text/plain": [
       "Plot with title \"Q-Q Plot for Model 1\""
      ]
     },
     "metadata": {
      "image/png": {
       "height": 420,
       "width": 420
      }
     },
     "output_type": "display_data"
    }
   ],
   "source": [
    "#  Visualization of Q-Q plots of prediction error for model 1\n",
    "\n",
    "qqnorm(t(model_1_error),col = \"grey\", main = \"Q-Q plots of prediction error for model 1\" )\n",
    "qqline(model_1_error, col = \"green\", lwd = 1,lty = 2)"
   ]
  },
  {
   "cell_type": "code",
   "execution_count": 52,
   "id": "32733288",
   "metadata": {},
   "outputs": [
    {
     "data": {
      "image/png": "[encoded data removed]",
      "text/plain": [
       "Plot with title \"Q-Q Plot for Model 2\""
      ]
     },
     "metadata": {
      "image/png": {
       "height": 420,
       "width": 420
      }
     },
     "output_type": "display_data"
    }
   ],
   "source": [
    "#  Visualization of  Q-Q plots of prediction error for model 2\n",
    "\n",
    "qqnorm(t(model_2_error), col= \"grey\", main = \"Q-Q plots of prediction error for model 2\" )\n",
    "qqline(model_2_error, col = \"green\", lwd = 1,lty = 2)"
   ]
  },
  {
   "cell_type": "code",
   "execution_count": 53,
   "id": "d1d0ec0f",
   "metadata": {},
   "outputs": [
    {
     "data": {
      "image/png": "[encoded data removed]",
      "text/plain": [
       "Plot with title \"Q-Q Plot for Model 2\""
      ]
     },
     "metadata": {
      "image/png": {
       "height": 420,
       "width": 420
      }
     },
     "output_type": "display_data"
    }
   ],
   "source": [
    "#  Visualization of  Q-Q plots of prediction error for model 2\n",
    "\n",
    "qqnorm(t(model_2_error),col= \"grey\", main = \"Q-Q plots of prediction error for model 2\" )\n",
    "qqline(model_2_error, col = \"green\", lwd = 1,lty = 2)"
   ]
  },
  {
   "cell_type": "code",
   "execution_count": 54,
   "id": "acbbc03c",
   "metadata": {},
   "outputs": [
    {
     "data": {
      "image/png": "[encoded data removed]",
      "text/plain": [
       "Plot with title \"Q-Q Plot for Model 3\""
      ]
     },
     "metadata": {
      "image/png": {
       "height": 420,
       "width": 420
      }
     },
     "output_type": "display_data"
    }
   ],
   "source": [
    "#  Visualization of  Q-Q plots of prediction error for model 3\n",
    "\n",
    "qqnorm(t(model_3_error), col= \"grey\", main = \"Q-Q plots of prediction error for model 3\" )\n",
    "qqline(model_3_error, col = \"green\", lwd = 1,lty = 2)"
   ]
  },
  {
   "cell_type": "code",
   "execution_count": 55,
   "id": "b06ee6ff",
   "metadata": {},
   "outputs": [
    {
     "data": {
      "image/png": "[encoded data removed]",
      "text/plain": [
       "Plot with title \"Q-Q Plot for Model 4\""
      ]
     },
     "metadata": {
      "image/png": {
       "height": 420,
       "width": 420
      }
     },
     "output_type": "display_data"
    }
   ],
   "source": [
    "#  Visualization of  Q-Q plots of prediction error for model 4\n",
    "\n",
    "qqnorm(t(model_4_error),col= \"grey\", main = \"Q-Q plots of prediction error for model 4\" )\n",
    "qqline(model_4_error, col = \"green\", lwd = 1, lty = 2)"
   ]
  },
  {
   "cell_type": "code",
   "execution_count": 56,
   "id": "1379d010",
   "metadata": {},
   "outputs": [
    {
     "data": {
      "image/png": "[encoded data removed]",
      "text/plain": [
       "Plot with title \"Q-Q Plot for Model 5\""
      ]
     },
     "metadata": {
      "image/png": {
       "height": 420,
       "width": 420
      }
     },
     "output_type": "display_data"
    }
   ],
   "source": [
    "#  Visualization of Q-Q plots of prediction error for model 5\n",
    "\n",
    "qqnorm(t(model_5_error), col= \"grey\",main = \"Q-Q plots of prediction error for model 5\" )\n",
    "qqline(model_5_error, col = \"green\", lwd = 1,lty = 2)"
   ]
  },
  {
   "cell_type": "markdown",
   "id": "5b9f7f28",
   "metadata": {},
   "source": [
    "## Task 2.6: Selecting Best regression model\n"
   ]
  },
  {
   "cell_type": "raw",
   "id": "8db1b26d",
   "metadata": {},
   "source": [
    "Model     AIC                BIC          Q-Q Plot View\n",
    "Model1    233.3414           253.1612     Follows a normal distribution\n",
    "Model2    -334.6489          -321.4356    Follows a normal distribution\n",
    "Model3    744.2701           754.1801     Doesn't follows a normal distribution and it is skewed\n",
    "Model4    117.1798           130.3931     follows a normal distribution\n",
    "Model6    -333.0493          -316.5327    follows a normal distribution "
   ]
  },
  {
   "cell_type": "markdown",
   "id": "80d851f2",
   "metadata": {},
   "source": [
    "Based on AIC and BIC, the best model fit would be model2 because it has lowest value. We will look at the Q-Q plot to verify the selected model 2 is good candidate.\n",
    "\n",
    "Looking at the Q-Q plot, all models seems to have same nature  except model 3, So looking at the position of Q-Q line, the model 2 seems to be suitable one.\n",
    "\n",
    "Now we would like to plot histogram to show distribution of residuals to get more incline to decision of picking up model 2."
   ]
  },
  {
   "cell_type": "code",
   "execution_count": 57,
   "id": "c644aa3f",
   "metadata": {},
   "outputs": [
    {
     "data": {
      "image/png": "[encoded data removed]",
      "text/plain": [
       "Plot with title \"color code\""
      ]
     },
     "metadata": {
      "image/png": {
       "height": 420,
       "width": 420
      }
     },
     "output_type": "display_data"
    }
   ],
   "source": [
    "par(mfrow = c(3,2))\n",
    "hist (model_1_error[,1], freq = FALSE, col=\"blue\", las =1)\n",
    "abline(v = median(model_1_error[,1]), col = \"grey\", lwd = 5)\n",
    "abline(v = mean(model_1_error[,1]), col = \"purple\", lwd = 5)\n",
    "\n",
    "\n",
    "hist (model_2_error[,1], freq = FALSE, col=\"green\", las =1)\n",
    "abline(v = median(model_2_error[,1]), col = \"grey\", lwd = 5)\n",
    "abline(v = mean(model_2_error[,1]), col = \"purple\", lwd = 5)\n",
    "# abline(v = getmode(model_2_error[,1]), col = \"red\", lwd = 5)\n",
    "\n",
    "hist (model_3_error[,1], freq = FALSE, col=\"orange\", las =1)\n",
    "abline(v = median(model_3_error[,1]), col = \"grey\", lwd = 5)\n",
    "abline(v = mean(model_3_error[,1]), col = \"purple\", lwd = 5)\n",
    "\n",
    "\n",
    "hist (model_4_error[,1], freq = FALSE, col=\"yellow\", las =1)\n",
    "abline(v = median(model_4_error[,1]), col = \"grey\", lwd = 5)\n",
    "abline(v = mean(model_4_error[,1]), col = \"purple\", lwd = 5)\n",
    "\n",
    "\n",
    "hist (model_5_error[,1], freq = FALSE, col=\"pink\", las =1)\n",
    "abline(v = median(model_5_error[,1]), col = \"grey\", lwd = 5)\n",
    "abline(v = mean(model_5_error[,1]), col = \"purple\", lwd = 5)\n",
    "\n",
    "\n",
    "hist(0, main = \"color code\")\n",
    "legend(\"center\", legend = c(\"median\",\"mean\"),\n",
    "       lwd = 1, col = c(\"grey\", \"purple\"))"
   ]
  },
  {
   "cell_type": "markdown",
   "id": "5b0a62a1",
   "metadata": {},
   "source": [
    "Observing the distribution of each mode, model 2 and 5 both seems to have normal distribution.\n",
    "\n",
    "Now let us see if model 2 is suitable than other or not. Based on interpretability of the model, i.e., a simpler model with fewer parameters is way easier to interpret and understand. So let us see the number of parameter in each models.\n",
    "\n",
    "Looking at the each length of parameter, the lowest is model 3 with 3 numbers of parameter, but its doesn’t follows a normal distribution and it is skewed and the next is model 4 having number of 4 parameters but its AIC and BIC is greater than the model 2.\n",
    "\n",
    "In conclusion of AIC, BIC, Q-Q plot and extra interpretability, we have picked up model 2 as the best fit model and  which is expressed as:\n",
    "\n",
    "Model 2: 𝑦 = 𝜃1 𝑥4 + 𝜃2 𝑥13 + 𝜃3 𝑥34 + 𝜃𝑏𝑖𝑎𝑠 + 𝜀"
   ]
  },
  {
   "cell_type": "markdown",
   "id": "cf312a47",
   "metadata": {},
   "source": [
    "## Task 2.7: Splitting data for test and train for selected model 2\n"
   ]
  },
  {
   "cell_type": "code",
   "execution_count": 58,
   "id": "42d76f4d",
   "metadata": {},
   "outputs": [],
   "source": [
    "# Splitting input signals x\n",
    "\n",
    "split_x <- initial_split(data = as.data.frame(x),prop=.7)\n",
    "\n",
    "\n",
    "# Training  data for input signals x  are split and thus splitted training set is converted to matrix form ans assigned to the variable x_training_data \n",
    "\n",
    "x_training_set <- training(split_x)\n",
    "\n",
    "x_training_data <- as.matrix(x_training_set)\n",
    "\n",
    "# Testing data  are split  and thus splitted testing set is converted to matrix form ans assigned to the variable x_testing_data \n",
    "\n",
    "x_testing_set <- testing(split_x)\n",
    "\n",
    "x_testing_data <- as.matrix(x_testing_set)\n",
    "\n",
    "\n",
    "\n",
    "# Splitting the data of output signals y into train and test\n",
    "\n",
    "split_y <- initial_split(data = as.data.frame(y),prop=.7)\n",
    " \n",
    "\n",
    "\n",
    "# Training  data for output signals y  are split and thus splitted training set is converted to matrix form ans assigned to the variable y_training_data \n",
    "\n",
    "y_training_set <- training(split_y)\n",
    "\n",
    "y_training_data <- as.matrix(y_training_set)\n",
    "\n",
    "# Testing data for output signals y are splitted and thus splitted testing set is converted to matrix form ans assigned to the variable y_testing_data \n",
    "\n",
    "y_testing_set <- testing(split_y)\n",
    "\n",
    "y_testing_data <- as.matrix(y_testing_set)"
   ]
  },
  {
   "cell_type": "markdown",
   "id": "76f756cb",
   "metadata": {},
   "source": [
    "## Task 2.7.1: Estimation of model parameter for selected model 2 using training dataset\n"
   ]
  },
  {
   "cell_type": "code",
   "execution_count": 59,
   "id": "dcecc801",
   "metadata": {},
   "outputs": [],
   "source": [
    "#   Estimation of model parameters using training set \n",
    "\n",
    "training_ones <- matrix(1, length(x_testing_set[[\"x1\"]]),1) \n",
    "\n",
    "\n",
    "# cbind() is used to bind the matrix \"ones\" and other variables that are present in that model 1, together to create a new data frame, \"x_model_1\". \n",
    "\n",
    "#The resulting data frame \"x_model_1\" will have the same number of rows as the input variable \"x\" but new colum will be added,\n",
    "\n",
    "training_model_x <- cbind(training_ones,(x_testing_set[[\"x4\"]]),(x_testing_set[[\"x1\"]])^3,(x_testing_set[[\"x3\"]])^4)\n",
    "\n",
    "\n",
    "training_thetahat <-   solve(t(training_model_x) %*% training_model_x) %*% t(training_model_x) %*% y_testing_data"
   ]
  },
  {
   "cell_type": "markdown",
   "id": "03ef6b67",
   "metadata": {},
   "source": [
    "## Task 2.7.2: Model output prediction on testing data set\n"
   ]
  },
  {
   "cell_type": "code",
   "execution_count": 60,
   "id": "bf2f78d2",
   "metadata": {},
   "outputs": [
    {
     "name": "stdout",
     "output_type": "stream",
     "text": [
      "[1] \"RSS value is testing data 256.4267\"\n"
     ]
    }
   ],
   "source": [
    "#  y_testing_hat is being calculated as the product of the x_testing_data matrix and the estimated coefficients (training_thetahat) of the linear regression model.\n",
    "# Here we get predicted values of y for the testing data.\n",
    "\n",
    "y_testing_hat <- x_testing_data %*% training_thetahat\n",
    "\n",
    "\n",
    "# Calculating residual sum of squares (RSS) for the testing data\n",
    "RSS_testing <- sum((y_testing_set-y_testing_hat)^2) \n",
    "\n",
    "\n",
    "# Printing RSS value of testing \n",
    "\n",
    "print(sprintf(\"RSS value is testing data %0.4f\", RSS_testing))"
   ]
  },
  {
   "cell_type": "markdown",
   "id": "02c42ebf",
   "metadata": {},
   "source": [
    "## Task 2.7.3: Computation of 95% confidence interval and visualizaing\n"
   ]
  },
  {
   "cell_type": "code",
   "execution_count": 61,
   "id": "bd1735d8",
   "metadata": {},
   "outputs": [
    {
     "data": {
      "text/plain": [
       "\n",
       "\tOne Sample t-test\n",
       "\n",
       "data:  y_testing_data\n",
       "t = -1874.7, df = 60, p-value < 2.2e-16\n",
       "alternative hypothesis: true mean is not equal to 500\n",
       "95 percent confidence interval:\n",
       " -0.6381153  0.4291057\n",
       "sample estimates:\n",
       " mean of x \n",
       "-0.1045048 \n"
      ]
     },
     "metadata": {},
     "output_type": "display_data"
    }
   ],
   "source": [
    "# Performing t-test on the training data. Here, mean is taken as a null hypothesis which value is equal to 700, \n",
    "# \"two.sided\"  is used which says that the true mean is not equal to the hypothesized mean and setting confidence interval 95%\n",
    "\n",
    "t.test(y_testing_data, mu=500, alternative=\"two.sided\", conf.level=0.95)"
   ]
  },
  {
   "cell_type": "code",
   "execution_count": 62,
   "id": "ff82792a",
   "metadata": {},
   "outputs": [
    {
     "name": "stderr",
     "output_type": "stream",
     "text": [
      "Warning message in geom_density(col = \"black\", fill = \"black\", lw = 1):\n",
      "\"\u001b[1m\u001b[22mIgnoring unknown parameters: `lw`\"\n"
     ]
    },
    {
     "data": {
      "image/png": "[encoded data removed]",
      "text/plain": [
       "plot without title"
      ]
     },
     "metadata": {
      "image/png": {
       "height": 420,
       "width": 420
      }
     },
     "output_type": "display_data"
    }
   ],
   "source": [
    "# Setting CI value based on t-test at the time of run\n",
    "C_I1 <- -0.2974446\n",
    "\n",
    "C_I2 <- 0.7263838\n",
    "\n",
    "\n",
    "ggplot(data = data.frame(y_training_data), aes(x = y_training_data)) +\n",
    "  geom_density(col = \"black\", fill = \"black\" , lw=1) +\n",
    "  geom_vline(xintercept = C_I1, col = \"cyan\", linetype = \"dashed\") +\n",
    "  geom_vline(xintercept = C_I2, col = \"cyan\", linetype = \"dashed\") +\n",
    "  geom_rug()+\n",
    "\n",
    "  ggtitle(\"Distribution of training Y data with 95% confidence intervals\")+\n",
    "  xlab(\"Y Training Data\") +\n",
    "  ylab(\"Density\")"
   ]
  },
  {
   "cell_type": "code",
   "execution_count": 63,
   "id": "9357841e",
   "metadata": {},
   "outputs": [
    {
     "name": "stderr",
     "output_type": "stream",
     "text": [
      "Warning message in geom_density(col = \"black\", fill = \"black\", lw = 1):\n",
      "\"\u001b[1m\u001b[22mIgnoring unknown parameters: `lw`\"\n"
     ]
    },
    {
     "data": {
      "image/png": "[encoded data removed]",
      "text/plain": [
       "plot without title"
      ]
     },
     "metadata": {
      "image/png": {
       "height": 420,
       "width": 420
      }
     },
     "output_type": "display_data"
    }
   ],
   "source": [
    "# Plotting distribution of testing data\n",
    "\n",
    "\n",
    "ggplot(data = data.frame(y_testing_data), aes(x = y_testing_data)) +\n",
    "  geom_density(col = \"black\", fill = \"black\" , lw=1) +\n",
    "  geom_vline(xintercept = C_I1, col = \"cyan\", linetype = \"dashed\") +\n",
    "  geom_vline(xintercept = C_I2, col = \"cyan\", linetype = \"dashed\") +\n",
    "  geom_rug()+\n",
    "\n",
    "  ggtitle(\"Distribution of testing Y data with 95% confidence intervals\")+\n",
    "  xlab(\"Y testing data\") +\n",
    "  ylab(\"Density\")"
   ]
  },
  {
   "cell_type": "code",
   "execution_count": 64,
   "id": "877194d8",
   "metadata": {},
   "outputs": [
    {
     "name": "stdout",
     "output_type": "stream",
     "text": [
      "[1] \"Error between actual testing data and the model's predicted output on that data is  256.4267\"\n"
     ]
    }
   ],
   "source": [
    "# Error between actual testing data and the model's predicted output on that data\n",
    "\n",
    "error <- ((y_testing_set - y_testing_hat)) \n",
    "\n",
    "\n",
    "\n",
    "# Printing error value \n",
    "\n",
    "print(sprintf(\"Error between actual testing data and the model's predicted output on that data is  %0.4f\", RSS_testing))"
   ]
  },
  {
   "cell_type": "markdown",
   "id": "809638a2",
   "metadata": {},
   "source": [
    "# Task 3: Approximate Bayesian Computation (ABC)\n"
   ]
  },
  {
   "cell_type": "markdown",
   "id": "a9245dfc",
   "metadata": {},
   "source": [
    "## Task 3.1: Computation of 2 parameter posterior distributions\n"
   ]
  },
  {
   "cell_type": "code",
   "execution_count": 65,
   "id": "271ac2fc",
   "metadata": {},
   "outputs": [
    {
     "name": "stdout",
     "output_type": "stream",
     "text": [
      "[1] 0.4830657 0.1435789\n"
     ]
    }
   ],
   "source": [
    "# Creator vector of theta_hat of selected model 2 and sorting them to find out two largest absolute value and printing it\n",
    "\n",
    "numbers <- c(theta_hat_2)\n",
    "sorted_numbers <- sort(abs(numbers), decreasing=TRUE)\n",
    "largest_two_values <- sorted_numbers[1:2]\n",
    "print(largest_two_values)"
   ]
  },
  {
   "cell_type": "code",
   "execution_count": 66,
   "id": "d5fde07a",
   "metadata": {},
   "outputs": [
    {
     "data": {
      "text/html": [
       "<table class=\"dataframe\">\n",
       "<caption>A matrix: 4 × 1 of type dbl</caption>\n",
       "<thead>\n",
       "\t<tr><th scope=col>y</th></tr>\n",
       "</thead>\n",
       "<tbody>\n",
       "\t<tr><td> 0.483065688</td></tr>\n",
       "\t<tr><td> 0.143578928</td></tr>\n",
       "\t<tr><td> 0.010038614</td></tr>\n",
       "\t<tr><td>-0.001912836</td></tr>\n",
       "</tbody>\n",
       "</table>\n"
      ],
      "text/latex": [
       "A matrix: 4 × 1 of type dbl\n",
       "\\begin{tabular}{l}\n",
       " y\\\\\n",
       "\\hline\n",
       "\t  0.483065688\\\\\n",
       "\t  0.143578928\\\\\n",
       "\t  0.010038614\\\\\n",
       "\t -0.001912836\\\\\n",
       "\\end{tabular}\n"
      ],
      "text/markdown": [
       "\n",
       "A matrix: 4 × 1 of type dbl\n",
       "\n",
       "| y |\n",
       "|---|\n",
       "|  0.483065688 |\n",
       "|  0.143578928 |\n",
       "|  0.010038614 |\n",
       "| -0.001912836 |\n",
       "\n"
      ],
      "text/plain": [
       "     y           \n",
       "[1,]  0.483065688\n",
       "[2,]  0.143578928\n",
       "[3,]  0.010038614\n",
       "[4,] -0.001912836"
      ]
     },
     "metadata": {},
     "output_type": "display_data"
    }
   ],
   "source": [
    "#Choosing parameters\n",
    "\n",
    "theta_bias <- largest_two_values[1] \n",
    "theta_four <- largest_two_values[2]\n",
    "\n",
    "#Constant parameter\n",
    "\n",
    "theta_one  <-  0.010038614  \n",
    "theta_three   <- -0.001912836\n",
    "\n",
    "\n",
    "# Initial values\n",
    "\n",
    "arr_1 = 0\n",
    "arr_2=0\n",
    "f_value=0\n",
    "s_value=0\n",
    "\n",
    "theta_hat_2"
   ]
  },
  {
   "cell_type": "markdown",
   "id": "92dc35a3",
   "metadata": {},
   "source": [
    "## Task 3.2: Using Uniform distribution as prior, around the estimated parameter values for 2 parameters"
   ]
  },
  {
   "cell_type": "code",
   "execution_count": 67,
   "id": "ea28e951",
   "metadata": {},
   "outputs": [],
   "source": [
    "# Calculating epsilon \n",
    "\n",
    "epsilon <- RSS_model_2 * 2\n",
    "\n",
    "# Number of iteration  to determines how many times the for loop will repeat and generate new values for the parameters.\n",
    "\n",
    "# A larger number of iterations may result in a more accurate estimate, but will also increase the computational time.\n",
    "num <- 100 \n",
    "\n",
    "##Calculating Y-hat for performing rejection ABC \n",
    "\n",
    "counter <- 0\n",
    "\n",
    "# Iteration from 0 -100 and calculating the range \n",
    "\n",
    "for (i in 1:num) {\n",
    "range1 <- runif(1,-0.483065688,0.483065688) \n",
    "range2 <- runif(1,-0.1435789,0.1435789)\n",
    "\n",
    "# Creating new vector of  two values from range1 and range2 with the constant values theta_one,theta_three. \n",
    "New_thetahat <- matrix(c(range1,range2,theta_one,theta_three)) \n",
    "\n",
    "# Calculating predicted response values for the current iteration of the loop\n",
    "\n",
    "New_Y_Hat <- x_model_2 %*% New_thetahat \n",
    "\n",
    "# Calculting new RSS valur\n",
    "new_RSS <- sum((y - New_Y_Hat)^2) \n",
    "\n",
    "\n",
    "\n",
    "# Checking if new RSS is greater than epsilon and if the condition is true, the values of range1 and range2 are stored in arrays arr_1 and arr_2 respectively. The counter is also incremented by 1. The f_value and s_value are then defined as matrices of the arrays arr_1 and arr_2 respectively.\n",
    "\n",
    "if (new_RSS > epsilon){\n",
    "arr_1[i] <- range1 \n",
    "arr_2[i] <- range2 \n",
    "counter = counter+1\n",
    "f_value <- matrix(arr_1)\n",
    "s_value <- matrix(arr_2)\n",
    "\n",
    "  } #closing else loop\n",
    "} #closing for loop"
   ]
  },
  {
   "cell_type": "markdown",
   "id": "564f5695",
   "metadata": {},
   "source": [
    "## Task 3.4: Plotting the joint and marginal posterior distribution for the parameters"
   ]
  },
  {
   "cell_type": "code",
   "execution_count": 68,
   "id": "88f1fac3",
   "metadata": {},
   "outputs": [
    {
     "name": "stderr",
     "output_type": "stream",
     "text": [
      "\u001b[1m\u001b[22m`stat_bin()` using `bins = 30`. Pick better value with `binwidth`.\n"
     ]
    },
    {
     "data": {
      "image/png": "[encoded data removed]",
      "text/plain": [
       "plot without title"
      ]
     },
     "metadata": {
      "image/png": {
       "height": 420,
       "width": 420
      }
     },
     "output_type": "display_data"
    }
   ],
   "source": [
    "# Plotting histogram of new f_values and s_values\n",
    "\n",
    "# Frequency distribution of the f_value\n",
    "ggplot(data.frame(f_value), aes(x=f_value)) + \n",
    "  geom_histogram(color = 'black', fill = \"red\") + \n",
    "  geom_rug()+ #Show the individual observations with black lines\n",
    "  labs(title = \"Frequency distribution of the f_value\"\n",
    "       ) + \n",
    "  xlab(\"f_value\") + \n",
    "  ylab(\"Frequency \") "
   ]
  },
  {
   "cell_type": "code",
   "execution_count": 69,
   "id": "82291499",
   "metadata": {},
   "outputs": [
    {
     "name": "stderr",
     "output_type": "stream",
     "text": [
      "\u001b[1m\u001b[22m`stat_bin()` using `bins = 30`. Pick better value with `binwidth`.\n"
     ]
    },
    {
     "data": {
      "image/png": "[encoded data removed]",
      "text/plain": [
       "plot without title"
      ]
     },
     "metadata": {
      "image/png": {
       "height": 420,
       "width": 420
      }
     },
     "output_type": "display_data"
    }
   ],
   "source": [
    "# Frequency distribution of the s_value\n",
    "ggplot(data.frame(s_value), aes(x=s_value)) + \n",
    "  geom_histogram(color = 'black', fill = \"red\") + \n",
    "  geom_rug()+ #Show the individual observations with black lines\n",
    "  labs(title = \"Frequency distribution of the s_value\"\n",
    "       ) + \n",
    "  xlab(\"s_value\") + \n",
    "  ylab(\"Frequency \") "
   ]
  },
  {
   "cell_type": "code",
   "execution_count": 70,
   "id": "a4f37f04",
   "metadata": {},
   "outputs": [
    {
     "data": {
      "image/png": "[encoded data removed]",
      "text/plain": [
       "plot without title"
      ]
     },
     "metadata": {
      "image/png": {
       "height": 420,
       "width": 420
      }
     },
     "output_type": "display_data"
    }
   ],
   "source": [
    "# The joint and marginal posterior distribution Plot\n",
    "\n",
    "# Create a data frame with the values of f_value and s_value and a column for \"group\"\n",
    "df <- data.frame(f_value, s_value, legend=rep(c(\"f_value\",\"s_value\"), each=length(f_value)/2))\n",
    "\n",
    "# Plot the scatter plot using and hiding legends\n",
    "p <- ggplot(df, aes(x=f_value, y=s_value, color=legend)) +\n",
    "  geom_point()+\n",
    "  theme(legend.position=\"bottom\")+ # show legend in bottom\n",
    "  theme(legend.title = element_blank())+ # hide legend word\n",
    "   #guides(color=FALSE)+ # Uncomment to hide legend\n",
    "  ggtitle(\"Joint and Marginal Posterior Distribution\")\n",
    "# \n",
    "# Show the plot\n",
    "print(p)"
   ]
  },
  {
   "cell_type": "code",
   "execution_count": 71,
   "id": "1f65aed6",
   "metadata": {},
   "outputs": [
    {
     "data": {
      "image/png": "[encoded data removed]",
      "text/plain": [
       "plot without title"
      ]
     },
     "metadata": {
      "image/png": {
       "height": 420,
       "width": 420
      }
     },
     "output_type": "display_data"
    }
   ],
   "source": [
    "# The joint and marginal posterior distribution with histogram plot\n",
    "\n",
    "# Create a data frame with the values of f_value and s_value and a column for \"group\"\n",
    "df <- data.frame(f_value, s_value, legend=rep(c(\"f_value\",\"s_value\"), each=length(f_value)/2))\n",
    "\n",
    "# Plot the scatter plot using and hiding legends\n",
    "p <- ggplot(df, aes(x=f_value, y=s_value, color=legend)) +\n",
    "  geom_point()+\n",
    "  theme(legend.position=\"bottom\")+\n",
    "  theme(legend.title = element_blank())+\n",
    "   #guides(color=FALSE)+ # Uncomment to hide legend\n",
    "  ggtitle(\"Joint and Marginal Posterior Distribution\")\n",
    "# \n",
    "# # Show the plot\n",
    "# print(p)\n",
    "\n",
    "\n",
    "# Marginal histograms by group\n",
    "ggMarginal(p, type = \"histogram\",\n",
    "          xparams = list(fill = 1),\n",
    "           yparams = list(fill = 1)) "
   ]
  }
 ],
 "metadata": {
  "kernelspec": {
   "display_name": "R",
   "language": "R",
   "name": "ir"
  },
  "language_info": {
   "codemirror_mode": "r",
   "file_extension": ".r",
   "mimetype": "text/x-r-source",
   "name": "R",
   "pygments_lexer": "r",
   "version": "4.1.3"
  }
 },
 "nbformat": 4,
 "nbformat_minor": 5
}
